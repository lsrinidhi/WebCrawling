{
 "cells": [
  {
   "cell_type": "markdown",
   "metadata": {
    "colab_type": "text",
    "id": "t6aXh7BPpCr3"
   },
   "source": [
    "Importing all the necessary packages"
   ]
  },
  {
   "cell_type": "code",
   "execution_count": 1,
   "metadata": {
    "colab": {},
    "colab_type": "code",
    "id": "QCm_8FEqpCr6"
   },
   "outputs": [],
   "source": [
    "from bs4 import BeautifulSoup\n",
    "import urllib\n",
    "import bs4\n",
    "import pandas as pd"
   ]
  },
  {
   "cell_type": "markdown",
   "metadata": {
    "colab_type": "text",
    "id": "NTr2RSyXpCr_"
   },
   "source": [
    "This is my target URL"
   ]
  },
  {
   "cell_type": "code",
   "execution_count": 2,
   "metadata": {
    "colab": {},
    "colab_type": "code",
    "id": "xCYKYQoipCsA"
   },
   "outputs": [],
   "source": [
    "url = 'https://en.wikipedia.org/wiki/Super_Bowl_LIV'"
   ]
  },
  {
   "cell_type": "markdown",
   "metadata": {
    "colab_type": "text",
    "id": "lbzhwRBgxJSX"
   },
   "source": [
    "Using BeautifulSoup to get the crawled site, and fetching the title through it"
   ]
  },
  {
   "cell_type": "code",
   "execution_count": 3,
   "metadata": {
    "colab": {},
    "colab_type": "code",
    "id": "feI7CczkpCsE"
   },
   "outputs": [],
   "source": [
    "with urllib.request.urlopen(url, data=None) as response:\n",
    "        soup = bs4.BeautifulSoup(response)\n",
    "        titles=soup.select('h1.firstHeading')[0].text.strip()"
   ]
  },
  {
   "cell_type": "markdown",
   "metadata": {
    "colab_type": "text",
    "id": "9FCTAYnKxWjf"
   },
   "source": [
    "Getting all the url's referenced by ' href' html tag and prints the number of such tags.\n",
    "I'm also restricting the number of urls fetched to 500\n"
   ]
  },
  {
   "cell_type": "code",
   "execution_count": 4,
   "metadata": {
    "colab": {},
    "colab_type": "code",
    "id": "1Zp0F74BpCsI"
   },
   "outputs": [
    {
     "name": "stdout",
     "output_type": "stream",
     "text": [
      "390\n"
     ]
    }
   ],
   "source": [
    "href_urls = set()\n",
    "for a_tag in soup.html.body.find_all('a', limit = 500):\n",
    "    if 'href' in a_tag.attrs:\n",
    "        href_urls.add(a_tag.attrs['href'])\n",
    "print(len(href_urls))"
   ]
  },
  {
   "cell_type": "markdown",
   "metadata": {},
   "source": [
    "Parsing the code to convert the reference URL's to absolute URL's"
   ]
  },
  {
   "cell_type": "code",
   "execution_count": 5,
   "metadata": {
    "colab": {},
    "colab_type": "code",
    "id": "RjdT2WThpCsR"
   },
   "outputs": [],
   "source": [
    "abs_urls = set()\n",
    "for href_url in href_urls:\n",
    "        a_url = urllib.parse.urljoin(url, href_url)\n",
    "        abs_urls.add(a_url)"
   ]
  },
  {
   "cell_type": "markdown",
   "metadata": {},
   "source": [
    "Separating the source URL into its parts and filtering the URL's belonging to a particular netloc"
   ]
  },
  {
   "cell_type": "code",
   "execution_count": 6,
   "metadata": {
    "colab": {
     "base_uri": "https://localhost:8080/",
     "height": 107
    },
    "colab_type": "code",
    "executionInfo": {
     "elapsed": 1278,
     "status": "ok",
     "timestamp": 1581012996958,
     "user": {
      "displayName": "Srinidhi Lakshminarayanan",
      "photoUrl": "",
      "userId": "16436644562784647679"
     },
     "user_tz": 300
    },
    "id": "a3KE-z9ppCsY",
    "outputId": "26b21559-ed24-4536-acd9-6195877021cf"
   },
   "outputs": [
    {
     "name": "stdout",
     "output_type": "stream",
     "text": [
      "en.wikipedia.org\n"
     ]
    }
   ],
   "source": [
    "parsed_source = urllib.parse.urlparse(url)\n",
    "print(parsed_source.netloc)\n",
    "wiki_urls = set()\n",
    "for a_url in abs_urls:\n",
    "    parsed_a_url = urllib.parse.urlparse(a_url)\n",
    "    if parsed_a_url.netloc == parsed_source.netloc:\n",
    "        wiki_urls.add(a_url)"
   ]
  },
  {
   "cell_type": "markdown",
   "metadata": {},
   "source": [
    "cleaning the URL's to remove all irrelavent ones"
   ]
  },
  {
   "cell_type": "code",
   "execution_count": 7,
   "metadata": {
    "colab": {
     "base_uri": "https://localhost:8080/",
     "height": 35
    },
    "colab_type": "code",
    "executionInfo": {
     "elapsed": 1229,
     "status": "ok",
     "timestamp": 1581012996965,
     "user": {
      "displayName": "Srinidhi Lakshminarayanan",
      "photoUrl": "",
      "userId": "16436644562784647679"
     },
     "user_tz": 300
    },
    "id": "K_HV8DEypCsg",
    "outputId": "01a3a75a-66b0-4553-8b00-3ec353982714"
   },
   "outputs": [],
   "source": [
    "cleaned_urls = set()\n",
    "for a_url in wiki_urls:\n",
    "    defrag_url = urllib.parse.urldefrag(a_url)\n",
    "    cleaned_urls.add(defrag_url.url)"
   ]
  },
  {
   "cell_type": "markdown",
   "metadata": {},
   "source": [
    "Creating 3 list \n",
    "\n",
    " - 'webpage_url_source', where the first element is 'None' and appending the source url to the rest of the 99 URL's\n",
    " - 'webpage_url_list', where the first element is the wikipedia entry url\n",
    " - 'webpage_url_title', where the element is the wiki entry page title \n"
   ]
  },
  {
   "cell_type": "code",
   "execution_count": 8,
   "metadata": {
    "colab": {
     "base_uri": "https://localhost:8080/",
     "height": 55
    },
    "colab_type": "code",
    "executionInfo": {
     "elapsed": 1214,
     "status": "ok",
     "timestamp": 1581012996968,
     "user": {
      "displayName": "Srinidhi Lakshminarayanan",
      "photoUrl": "",
      "userId": "16436644562784647679"
     },
     "user_tz": 300
    },
    "id": "wJVlJwzMpCsk",
    "outputId": "753a2a78-c13b-4762-e165-5f59ba3bebca"
   },
   "outputs": [],
   "source": [
    "webpage_url_source = []\n",
    "webpage_url_source.append('None')\n",
    "\n",
    "for i in range(1,100):\n",
    "    webpage_url_source.append(url)\n",
    "\n",
    "webpage_url_list = [url]\n",
    "webpage_url_title = [titles]"
   ]
  },
  {
   "cell_type": "markdown",
   "metadata": {},
   "source": [
    "This cell - \n",
    "- loops through 100 url's\n",
    "- filters the pages which is of the 'text/html' format\n",
    "- sends the request through soup\n",
    "- scrapes the title of the page\n",
    "- prints them"
   ]
  },
  {
   "cell_type": "code",
   "execution_count": 9,
   "metadata": {
    "colab": {
     "base_uri": "https://localhost:8080/",
     "height": 1000
    },
    "colab_type": "code",
    "executionInfo": {
     "elapsed": 55625,
     "status": "ok",
     "timestamp": 1581013051412,
     "user": {
      "displayName": "Srinidhi Lakshminarayanan",
      "photoUrl": "",
      "userId": "16436644562784647679"
     },
     "user_tz": 300
    },
    "id": "hgnNnnVmpCsr",
    "outputId": "a255a65e-f550-4701-86cd-e4cab1eda93c"
   },
   "outputs": [
    {
     "name": "stdout",
     "output_type": "stream",
     "text": [
      "1966 Kansas City Chiefs season\n",
      "Baltimore Ravens\n",
      "Germany\n",
      "2019 Stanley Cup Finals\n",
      "Central Time Zone\n",
      "Donald Trump 2020 presidential campaign\n",
      "American football\n",
      "Broadcasting Act (1991)\n",
      "Super Bowl Experience\n",
      "Super Bowl IV\n",
      "New England Patriots\n",
      "Raymond James Stadium\n",
      "Matt Moore (American football)\n",
      "2020 Democratic Party presidential primaries\n",
      "Iowa caucuses\n",
      "Glossary of American football\n",
      "Dee Ford\n",
      "2019 Tennessee Titans season\n",
      "Super Bowl XXXIII\n",
      "Yolanda Adams\n",
      "Pepsi\n",
      "CTV Television Network\n",
      "Ultra-high-definition television\n",
      "TV6 (Sweden)\n",
      "2019 Minnesota Vikings season\n",
      "Verizon Media\n",
      "2012 Baltimore Ravens season\n",
      "Super Bowl XXXII\n",
      "Eastern Time Zone\n",
      "Play from scrimmage\n",
      "St. Louis Cardinals\n",
      "Damien Williams\n",
      "South Beach\n",
      "Super Bowl LV\n",
      "Red zone (gridiron football)\n",
      "Ocean Drive (South Beach)\n",
      "DeForest Buckner\n",
      "Major professional sports leagues in the United States and Canada\n",
      "Fox Sports 1\n",
      "Hard Rock Stadium\n",
      "NFL on Westwood One Sports\n",
      "beIN Sports\n",
      "SoFi Stadium\n",
      "Anthony Hitchens\n",
      "Tyreek Hill\n",
      "Quarterback\n",
      "Ferris wheel\n",
      "Frank Clark (American football)\n",
      "The Masked Singer (American TV series)\n",
      "Sammy Watkins\n",
      "Simultaneous substitution\n",
      "Tampa, Florida\n",
      "AFC West\n",
      "Monday Night Football\n",
      "NFL on NBC\n",
      "ESPN Brasil\n",
      "National Football League 100th Anniversary All-Time Team\n",
      "Réseau des sports\n",
      "2019 San Francisco 49ers season\n",
      "List of Super Bowl halftime shows\n",
      "Fred Warner (American football)\n",
      "Harrison Butker\n",
      "1966 Green Bay Packers season\n",
      "Sky Sports\n",
      "TF1\n",
      "Two-minute warning\n",
      "List of national anthem performers at the Super Bowl\n",
      "Donald Trump\n",
      "High-dynamic-range video\n",
      "Tim Ryan (American football, born 1967)\n",
      "Seed (sports)\n",
      "Bad Bunny\n",
      "File:Hard Rock Stadium.jpg\n",
      "Raheem Mostert\n",
      "Roc Nation\n",
      "AFL–NFL merger\n",
      "Fox Deportes\n",
      "Nick Bosa\n",
      "XFL (2020)\n",
      "Mike Pereira\n",
      "Pacific Time Zone\n",
      "Terrell Suggs\n",
      "ESPN International\n",
      "Bye (sports)\n",
      "American football rules\n",
      "Bell Media\n",
      "Tony Boselli\n",
      "Kansas City Chiefs\n",
      "Jimmy Garoppolo\n",
      "Super Bowl I\n",
      "2012 San Francisco 49ers season\n",
      "1080p\n",
      "Campaign advertising\n",
      "1116 SEN\n",
      "Denver Broncos\n",
      "Super Bowl LIII\n",
      "Matt Breida\n",
      "Kendall Fuller\n",
      "Missouri\n",
      "Replay review in gridiron football\n",
      "Wall time: 1min 34s\n"
     ]
    }
   ],
   "source": [
    "%%time\n",
    "i = 0\n",
    "for to_open_url in cleaned_urls:\n",
    "    try:\n",
    "        if( i > 99): \n",
    "            break\n",
    "        else:\n",
    "            with urllib.request.urlopen(to_open_url, data=None, timeout=5) as response:\n",
    "                if 'text/html' in response.headers['Content-Type']:\n",
    "                    webpage_url_list.append(to_open_url)\n",
    "                    with urllib.request.urlopen(to_open_url, data=None, timeout = 5) as response_title:\n",
    "                        soup = bs4.BeautifulSoup(response_title)\n",
    "                        titles=soup.select('h1.firstHeading')[0].text.strip()\n",
    "                        webpage_url_title.append(titles)\n",
    "                        print(titles)\n",
    "                    i = i + 1\n",
    "    except:\n",
    "        pass \n"
   ]
  },
  {
   "cell_type": "markdown",
   "metadata": {},
   "source": [
    "this cell \n",
    "- zips the three lists ( source list, url list and title list)\n",
    "- converts into a pandas dataframe and gives it a column names\n",
    "- Adds \" to the dataframe so that we don't get wrong information during the csv export\n",
    "- downloads the data as csv"
   ]
  },
  {
   "cell_type": "code",
   "execution_count": 14,
   "metadata": {
    "colab": {},
    "colab_type": "code",
    "id": "ZgEwPMywpCsy"
   },
   "outputs": [],
   "source": [
    "import csv\n",
    "list = zip(webpage_url_source,webpage_url_list,webpage_url_title)\n",
    "df = pd.DataFrame(list, columns=[\"url_source\", \"url_target\", \"page_title_target\"])\n",
    "df = '\"'+df+'\"'\n",
    "df.to_csv('crawl.csv', index=False)"
   ]
  },
  {
   "cell_type": "code",
   "execution_count": null,
   "metadata": {},
   "outputs": [],
   "source": []
  },
  {
   "cell_type": "code",
   "execution_count": null,
   "metadata": {},
   "outputs": [],
   "source": []
  }
 ],
 "metadata": {
  "colab": {
   "collapsed_sections": [],
   "name": "WebCrawlingHomeWork.ipynb",
   "provenance": [],
   "toc_visible": true
  },
  "kernelspec": {
   "display_name": "Python 3",
   "language": "python",
   "name": "python3"
  },
  "language_info": {
   "codemirror_mode": {
    "name": "ipython",
    "version": 3
   },
   "file_extension": ".py",
   "mimetype": "text/x-python",
   "name": "python",
   "nbconvert_exporter": "python",
   "pygments_lexer": "ipython3",
   "version": "3.7.4"
  }
 },
 "nbformat": 4,
 "nbformat_minor": 1
}
